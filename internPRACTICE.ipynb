{
 "cells": [
  {
   "cell_type": "markdown",
   "id": "3cbd48c2",
   "metadata": {},
   "source": [
    "second highest in the list "
   ]
  },
  {
   "cell_type": "code",
   "execution_count": 2,
   "id": "cd871323",
   "metadata": {},
   "outputs": [
    {
     "name": "stdout",
     "output_type": "stream",
     "text": [
      "[7, 8, 25, 45, 46, 56, 85, 99, 99, 100, 810]\n",
      "100\n"
     ]
    }
   ],
   "source": [
    "a=[45,85,99,56,7,810,46,99,100,25,8]\n",
    "a=sorted(a)\n",
    "print(a)\n",
    "print(a[-2])"
   ]
  },
  {
   "cell_type": "markdown",
   "id": "853a8fbf",
   "metadata": {},
   "source": [
    "reverse the string"
   ]
  },
  {
   "cell_type": "code",
   "execution_count": 3,
   "id": "8ebac092",
   "metadata": {},
   "outputs": [
    {
     "name": "stdout",
     "output_type": "stream",
     "text": [
      "yrahduohc uhsnapeed\n"
     ]
    }
   ],
   "source": [
    "a=\"deepanshu choudhary\"\n",
    "print(a[::-1])"
   ]
  },
  {
   "cell_type": "markdown",
   "id": "995b0556",
   "metadata": {},
   "source": []
  },
  {
   "cell_type": "code",
   "execution_count": 7,
   "id": "f3d7a97a",
   "metadata": {},
   "outputs": [
    {
     "name": "stdout",
     "output_type": "stream",
     "text": [
      "choudhary\n",
      "deepanshu\n"
     ]
    }
   ],
   "source": [
    "a=\"deepanshu choudhary\"\n",
    "a=a.split(\" \")\n",
    "for i in range(len(a)):\n",
    "    i=i+1\n",
    "    i=-i\n",
    "    print(a[i])\n"
   ]
  },
  {
   "cell_type": "markdown",
   "id": "10a47df8",
   "metadata": {},
   "source": []
  },
  {
   "cell_type": "code",
   "execution_count": 9,
   "id": "3bc40bb6",
   "metadata": {},
   "outputs": [
    {
     "name": "stdout",
     "output_type": "stream",
     "text": [
      "[3, 4, 5, 6, 7, 8, 9, 36, 45, 52, 56, 78, 89, 96, 99]\n"
     ]
    }
   ],
   "source": [
    "a=[45,89,45,96,8,9,36,9,78,96,8,9,5,6,4,5,52,7,8,96,56,8,3,99,7,8,78]\n",
    "a=list(set(a))\n",
    "a=sorted(a)\n",
    "print(a)"
   ]
  },
  {
   "cell_type": "markdown",
   "id": "7a7a3812",
   "metadata": {},
   "source": []
  },
  {
   "cell_type": "code",
   "execution_count": 16,
   "id": "c6a2ee8d",
   "metadata": {},
   "outputs": [
    {
     "name": "stdout",
     "output_type": "stream",
     "text": [
      "1\n",
      "1 2\n",
      "1 2 3\n",
      "1 2 3 4\n",
      "1 2 3 4 5\n"
     ]
    }
   ],
   "source": [
    "a=int(input(\"enter your num here sir plz= \"))\n",
    "\n",
    "for i in range(1,a+1):\n",
    "    l=[]\n",
    "    b=\" \"\n",
    "    for  y in range(1,i+1):\n",
    "        \n",
    "        l.append(str(y))\n",
    "    b=b.join(l)\n",
    "    print(b)\n",
    "    \n"
   ]
  },
  {
   "cell_type": "code",
   "execution_count": 18,
   "id": "36888810",
   "metadata": {},
   "outputs": [
    {
     "name": "stdout",
     "output_type": "stream",
     "text": [
      "1\n",
      "2 3\n",
      "4 5 6\n",
      "7 8 9 10\n",
      "11 12 13 14 15\n"
     ]
    }
   ],
   "source": [
    "a=int(input(\"enter your num here sir plz= \"))\n",
    "\n",
    "bbb=1\n",
    "for i in range(1,a+1):\n",
    "    l=[]\n",
    "    b=\" \"\n",
    "    for  y in range(1,i+1):\n",
    "        \n",
    "        l.append(str(bbb))\n",
    "        bbb=bbb+1\n",
    "    b=b.join(l)\n",
    "    print(b)\n",
    "    \n"
   ]
  },
  {
   "cell_type": "code",
   "execution_count": 22,
   "id": "6742c2ee",
   "metadata": {},
   "outputs": [
    {
     "name": "stdout",
     "output_type": "stream",
     "text": [
      "             *\n",
      "            * *\n",
      "           * * *\n",
      "          * * * *\n",
      "         * * * * *\n",
      "        * * * * * *\n",
      "       * * * * * * *\n",
      "      * * * * * * * *\n",
      "     * * * * * * * * *\n",
      "    * * * * * * * * * *\n",
      "   * * * * * * * * * * *\n"
     ]
    }
   ],
   "source": [
    "a=int(input(\"enter your num here sir plz= \"))\n",
    "b=\" \"\n",
    "c=a\n",
    "for i in range(1,a+1):\n",
    "    print(c*b,i*\" *\")\n",
    "    c=c-1"
   ]
  },
  {
   "cell_type": "code",
   "execution_count": 31,
   "id": "09347b93",
   "metadata": {},
   "outputs": [
    {
     "name": "stdout",
     "output_type": "stream",
     "text": [
      "  * * * * * * * * * * * * * * *\n",
      "   * * * * * * * * * * * * * *\n",
      "    * * * * * * * * * * * * *\n",
      "     * * * * * * * * * * * *\n",
      "      * * * * * * * * * * *\n",
      "       * * * * * * * * * *\n",
      "        * * * * * * * * *\n",
      "         * * * * * * * *\n",
      "          * * * * * * *\n",
      "           * * * * * *\n",
      "            * * * * *\n",
      "             * * * *\n",
      "              * * *\n",
      "               * *\n",
      "                *\n",
      "               * * \n",
      "              * * * \n",
      "             * * * * \n",
      "            * * * * * \n",
      "           * * * * * * \n",
      "          * * * * * * * \n",
      "         * * * * * * * * \n",
      "        * * * * * * * * * \n",
      "       * * * * * * * * * * \n",
      "      * * * * * * * * * * * \n",
      "     * * * * * * * * * * * * \n",
      "    * * * * * * * * * * * * * \n",
      "   * * * * * * * * * * * * * * \n",
      "  * * * * * * * * * * * * * * * \n"
     ]
    }
   ],
   "source": [
    "a=int(input(\"enter your num here sir plz= \"))\n",
    "b=\" \"\n",
    "c=0\n",
    "for y in range(-a,0):\n",
    "    y=-y\n",
    "    print(c*b,y*\" *\")\n",
    "    c=c+1\n",
    "\n",
    "\n",
    "\n",
    "\n",
    "b=\" \"\n",
    "c=a\n",
    "for i in range(2,a+1):\n",
    "    c=c-1\n",
    "    print(c*b,i*\"* \")\n",
    "   "
   ]
  },
  {
   "cell_type": "code",
   "execution_count": 7,
   "id": "de5de814",
   "metadata": {},
   "outputs": [
    {
     "name": "stdout",
     "output_type": "stream",
     "text": [
      "the name and the age of the person is Deepanshu and 24\n",
      "the object named with Deepanshu is deleted from the class\n",
      "the name and the age of the person is fghj and 20\n",
      "the object named with fghj is deleted from the class\n",
      "the object named with fghj is deleted from the class\n"
     ]
    }
   ],
   "source": [
    "class person:\n",
    "    def __init__(self,a,b):\n",
    "        self.name=a\n",
    "        self.age=b\n",
    "        print(f\"the name and the age of the person is {self.name} and {self.age}\")\n",
    "    def __del__(self):\n",
    "        print(f\"the object named with {self.name} is deleted from the class\")\n",
    "        \n",
    "\n",
    "ghj=person(\"Deepanshu\",24)\n",
    "fghj=person(\"fghj\",20)\n",
    "\n",
    "del fghj\n"
   ]
  },
  {
   "cell_type": "code",
   "execution_count": 12,
   "id": "a82189d1",
   "metadata": {},
   "outputs": [
    {
     "name": "stdout",
     "output_type": "stream",
     "text": [
      "the wheels and the milage of the cars is 6  and 12\n",
      "the wheels and the milage of the cars is 6  and 15\n"
     ]
    }
   ],
   "source": [
    "class CARS:\n",
    "    wheels=4\n",
    "    def __init__(self,mileage):\n",
    "        self.mileage=mileage\n",
    "\n",
    "    def display(self):\n",
    "        print(f\"the wheels and the milage of the cars is {self.wheels}  and {self.mileage}\")\n",
    "car1=CARS(15)\n",
    "car2=CARS(18)\n",
    "car2.wheels=6\n",
    "car2.mileage=12\n",
    "car2.display()\n",
    "CARS.wheels=6\n",
    "car3=CARS(15)\n",
    "car3.display()\n"
   ]
  },
  {
   "cell_type": "code",
   "execution_count": 13,
   "id": "295545cf",
   "metadata": {},
   "outputs": [
    {
     "name": "stdout",
     "output_type": "stream",
     "text": [
      "the sum of num is = 9\n"
     ]
    }
   ],
   "source": [
    "class calculations:\n",
    "    @staticmethod\n",
    "    def __init__(a,b):\n",
    "        print(f\"the sum of num is = {a+b}\")\n",
    "ss=calculations(4,5)"
   ]
  },
  {
   "cell_type": "code",
   "execution_count": 22,
   "id": "f63798b0",
   "metadata": {},
   "outputs": [
    {
     "name": "stdout",
     "output_type": "stream",
     "text": [
      "the name and the age of the person is Deepanshu and 24\n",
      "the object named with Deepanshu is 70 \n",
      "the object named with Deepanshu is 17 \n"
     ]
    }
   ],
   "source": [
    "class person:\n",
    "    def __init__(self,a,b):\n",
    "        self.name=a\n",
    "        self.age=b\n",
    "        print(f\"the name and the age of the person is {self.name} and {self.age}\")\n",
    "    def calculation(self,*args):\n",
    "        if len(args)==0:\n",
    "            print(f\"the object named with {self.name} is having some input error\")\n",
    "        if len(args)==1:\n",
    "            self.a=args[0]\n",
    "            print(f\"the object named with {self.name} is {self.a}\")\n",
    "        \n",
    "        if len(args)==2:\n",
    "            self.a=args[0]\n",
    "            self.b=args[1]\n",
    "            print(f\"the object named with {self.name} is {self.a+self.b} \")\n",
    "         \n",
    "        if len(args)==3:\n",
    "            self.a=args[0]\n",
    "            self.b=args[1]\n",
    "            self.c=args[2]\n",
    "            print(f\"the object named with {self.name} is {self.a+self.b+self.c} \")\n",
    "        if len(args)==4:\n",
    "            self.a=args[0]\n",
    "            self.b=args[1]\n",
    "            self.c=args[2]\n",
    "            self.d=args[3]\n",
    "            print(f\"the object named with {self.name} is {self.a+self.b+self.c+self.d} \")\n",
    "\n",
    "\n",
    "        \n",
    "        \n",
    "        \n",
    "\n",
    "ghj=person(\"Deepanshu\",24)\n",
    "ghj.calculation(20,25,25)\n",
    "ghj.calculation(5,12)\n"
   ]
  },
  {
   "cell_type": "code",
   "execution_count": 1,
   "id": "c65f279e",
   "metadata": {},
   "outputs": [],
   "source": [
    "with open (\"filz.txt\",\"w\") as ff:\n",
    "    ff.write(\"hello deepanshu how are you\")\n",
    "    "
   ]
  },
  {
   "cell_type": "code",
   "execution_count": 2,
   "id": "9a5c0e54",
   "metadata": {},
   "outputs": [
    {
     "name": "stdout",
     "output_type": "stream",
     "text": [
      "Dear Hiring Manager,\n",
      "\n",
      "I am writing to express my interest in the Data Scientist â€“ Product Analytics position. With hands-on experience in data analytics, predictive modeling, and dashboard development, I bring a strong foundation in transforming behavioral data into actionable insights that improve customer engagement and business performance.\n",
      "\n",
      "During my internship at Celebal Technologies and through projects like OLA Bengaluru Mobility Analysis and Crop Production Forecasting, I applied Python, SQL, and Power BI to uncover patterns, build real-time dashboards, and deliver insights that supported data-driven decisions. I have also explored the use of machine learning models using scikit-learn for clustering and trend analysis.\n",
      "\n",
      "My strength lies in bridging data science and business outcomesâ€”applying analytical techniques while maintaining a sharp focus on user behavior, KPI tracking, and customer retention strategies.\n",
      "\n",
      "I look forward to the opportunity to contribute to your team.\n",
      "\n",
      "Sincerely,\n",
      "Deepanshu Choudhary\n",
      "choudharydeepanshu0026@gmail.com\n",
      "7668002183\n",
      "\n",
      "\n"
     ]
    }
   ],
   "source": [
    "with open (\"D:\\Resume\\Cover Letter (JPMC).txt\",\"r\") as gh:\n",
    "    p=gh.read()\n",
    "    print(p)"
   ]
  },
  {
   "cell_type": "markdown",
   "id": "20c32f26",
   "metadata": {},
   "source": [
    "Write a Python function to check if a number is a palindrome."
   ]
  },
  {
   "cell_type": "code",
   "execution_count": 8,
   "id": "7d5af921",
   "metadata": {},
   "outputs": [
    {
     "name": "stdout",
     "output_type": "stream",
     "text": [
      "the string is not a palindrome\n"
     ]
    }
   ],
   "source": [
    "a=input(\"enter your name here sir plz= \")\n",
    "for i in range(len(a)):\n",
    "    y=i+1\n",
    "    if a[i]==a[-y]:\n",
    "        pass\n",
    "    else:\n",
    "        print(\"the string is not a palindrome\")\n",
    "        break\n",
    "else:\n",
    "    print(\"the string is a palindrome\")\n"
   ]
  },
  {
   "cell_type": "markdown",
   "id": "c765252a",
   "metadata": {},
   "source": [
    "Write a function that takes a list and returns a new list with only the even numbers."
   ]
  },
  {
   "cell_type": "code",
   "execution_count": 13,
   "id": "4d7359a3",
   "metadata": {},
   "outputs": [
    {
     "name": "stdout",
     "output_type": "stream",
     "text": [
      "[2, 4, 6, 8, 10]\n"
     ]
    }
   ],
   "source": [
    "b=[1,2,3,4,5,6,7,8,9,10]\n",
    "def fgh(p):\n",
    "    if(p % 2 == 0):\n",
    "        return p\n",
    "a=[i for i in b if fgh(i)]\n",
    "print(a)\n"
   ]
  },
  {
   "cell_type": "markdown",
   "id": "c3870b06",
   "metadata": {},
   "source": [
    "Write a function that returns the first non-repeating character in a string."
   ]
  },
  {
   "cell_type": "code",
   "execution_count": 3,
   "id": "c2b8eb9d",
   "metadata": {},
   "outputs": [
    {
     "name": "stdout",
     "output_type": "stream",
     "text": [
      "the first non repeating character is d\n"
     ]
    }
   ],
   "source": [
    "a=\"ddeeppannsshhu\"\n",
    "l=[]\n",
    "for i in a:\n",
    "    l.append(i)\n",
    "\n",
    "for i in range(len(l)):\n",
    "    if a[i] in l and a[i] not in l[:i]:\n",
    "        print(f\"the first non repeating character is {a[i]}\")\n",
    "        break\n",
    "\n"
   ]
  },
  {
   "cell_type": "markdown",
   "id": "265203f8",
   "metadata": {},
   "source": []
  },
  {
   "cell_type": "code",
   "execution_count": 4,
   "id": "7e92a52c",
   "metadata": {},
   "outputs": [],
   "source": [
    "def first_non_repeating_char(s):\n",
    "    char_count = {}\n",
    "\n",
    "    # Count occurrences of each character\n",
    "    for char in s:\n",
    "        char_count[char] = char_count.get(char, 0) + 1\n",
    "\n",
    "    # Find the first character with a count of 1\n",
    "    for char in s:\n",
    "        if char_count[char] == 1:\n",
    "            return char\n",
    "\n",
    "    return None  # or return '' if you prefer\n"
   ]
  },
  {
   "cell_type": "code",
   "execution_count": null,
   "id": "b20e858e",
   "metadata": {},
   "outputs": [],
   "source": []
  }
 ],
 "metadata": {
  "kernelspec": {
   "display_name": "Python 3",
   "language": "python",
   "name": "python3"
  },
  "language_info": {
   "codemirror_mode": {
    "name": "ipython",
    "version": 3
   },
   "file_extension": ".py",
   "mimetype": "text/x-python",
   "name": "python",
   "nbconvert_exporter": "python",
   "pygments_lexer": "ipython3",
   "version": "3.11.5"
  }
 },
 "nbformat": 4,
 "nbformat_minor": 5
}
